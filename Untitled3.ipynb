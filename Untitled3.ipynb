{
  "nbformat": 4,
  "nbformat_minor": 0,
  "metadata": {
    "colab": {
      "provenance": [],
      "authorship_tag": "ABX9TyMXYNSjjKF4UJqOaxpQI8fI",
      "include_colab_link": true
    },
    "kernelspec": {
      "name": "python3",
      "display_name": "Python 3"
    },
    "language_info": {
      "name": "python"
    }
  },
  "cells": [
    {
      "cell_type": "markdown",
      "metadata": {
        "id": "view-in-github",
        "colab_type": "text"
      },
      "source": [
        "<a href=\"https://colab.research.google.com/github/kimdukyoung/aipython/blob/main/Untitled3.ipynb\" target=\"_parent\"><img src=\"https://colab.research.google.com/assets/colab-badge.svg\" alt=\"Open In Colab\"/></a>"
      ]
    },
    {
      "cell_type": "code",
      "execution_count": 1,
      "metadata": {
        "colab": {
          "base_uri": "https://localhost:8080/"
        },
        "id": "CqOZ5YhKdNfP",
        "outputId": "db570c39-110f-4eb5-f20c-6e0022929649"
      },
      "outputs": [
        {
          "output_type": "stream",
          "name": "stdout",
          "text": [
            "학생의 점수를 입력하세요 (종료하려면 'exit' 입력): 90\n",
            "학생의 점수를 입력하세요 (종료하려면 'exit' 입력): 70\n",
            "학생의 점수를 입력하세요 (종료하려면 'exit' 입력): 30\n",
            "학생의 점수를 입력하세요 (종료하려면 'exit' 입력): x\n",
            "숫자를 입력하세요.\n",
            "학생의 점수를 입력하세요 (종료하려면 'exit' 입력): exit\n",
            "\n",
            "총 학생 수: 3\n",
            "총점: 190\n",
            "평균 점수: 63.33\n"
          ]
        }
      ],
      "source": [
        "score = []\n",
        "total_students = 0\n",
        "total_score = 0\n",
        "\n",
        "while True:\n",
        "    try:\n",
        "        input_score = input(\"학생의 점수를 입력하세요 (종료하려면 'exit' 입력): \")\n",
        "\n",
        "        if input_score.lower() == 'exit':\n",
        "            break\n",
        "\n",
        "        score.append(int(input_score))\n",
        "        total_students += 1\n",
        "        total_score += int(input_score)\n",
        "\n",
        "    except ValueError:\n",
        "        print(\"숫자를 입력하세요.\")\n",
        "\n",
        "if total_students > 0:\n",
        "    average_score = total_score / total_students\n",
        "    print(f\"\\n총 학생 수: {total_students}\")\n",
        "    print(f\"총점: {total_score}\")\n",
        "    print(f\"평균 점수: {average_score:.2f}\")\n",
        "else:\n",
        "    print(\"입력된 학생이 없습니다.\")\n"
      ]
    }
  ]
}