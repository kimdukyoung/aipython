{
  "nbformat": 4,
  "nbformat_minor": 0,
  "metadata": {
    "colab": {
      "provenance": [],
      "authorship_tag": "ABX9TyOXpxfQ1pWQR6l1MCbXm5MC",
      "include_colab_link": true
    },
    "kernelspec": {
      "name": "python3",
      "display_name": "Python 3"
    },
    "language_info": {
      "name": "python"
    }
  },
  "cells": [
    {
      "cell_type": "markdown",
      "metadata": {
        "id": "view-in-github",
        "colab_type": "text"
      },
      "source": [
        "<a href=\"https://colab.research.google.com/github/kimdukyoung/aipython/blob/main/untitled0.ipynb\" target=\"_parent\"><img src=\"https://colab.research.google.com/assets/colab-badge.svg\" alt=\"Open In Colab\"/></a>"
      ]
    },
    {
      "cell_type": "code",
      "execution_count": null,
      "metadata": {
        "colab": {
          "base_uri": "https://localhost:8080/"
        },
        "id": "d4t-XLhINT0c",
        "outputId": "bc6b4fce-b8a9-4ab1-dbc3-ff96aaf1f7c0"
      },
      "outputs": [
        {
          "output_type": "stream",
          "name": "stdout",
          "text": [
            "Enter the score for test 1: 93\n",
            "Enter the score for test 2: 99\n",
            "Enter the score for test 3: 96\n",
            "The average score is 96.0\n",
            "Congratualtions!\n",
            "That is a great average!\n"
          ]
        }
      ],
      "source": [
        "# 본 예제에서는 if 조건문의 기본 활용법에 대해 살펴본다.\n",
        "# 점수를 세번 입력받고 평균을 계산한 후, 전역 상수와 비교하여\n",
        "# 클 경우에는 메시지를 출력한다.\n",
        "\n",
        "# 전역 상수 선언\n",
        "HIGH_SCORE = 95\n",
        "\n",
        "def main():\n",
        "  # 점수를 세번 입력받아 각 변수에 할당한다.\n",
        "  test1 = int(input('Enter the score for test 1: '))\n",
        "  test2 = int(input('Enter the score for test 2: '))\n",
        "  test3 = int(input('Enter the score for test 3: '))\n",
        "\n",
        "  average = (test1 + test2 + test3)/3\n",
        "\n",
        "  print('The average score is', average)\n",
        "\n",
        "  # 평균값이 HIGH_SCORE 보다 클 경우에 메시지 출력\n",
        "  if average >= HIGH_SCORE:\n",
        "    print('Congratualtions!')\n",
        "    print('That is a great average!')\n",
        "\n",
        "main()"
      ]
    },
    {
      "cell_type": "code",
      "source": [],
      "metadata": {
        "id": "aBXBh0MQXWqG"
      },
      "execution_count": null,
      "outputs": []
    },
    {
      "cell_type": "code",
      "source": [
        "#본 예제에선는 근무시간과 시간당 급여를 입력받아 조건문으로 적절한 상황을 판단한 후\n",
        "#총 급여를 계산하는 프로그램을 제작해본다.\n",
        "\n",
        "#아래와 같이 전역 상수를 선언한다.\n",
        "BASE_HOURS = 40 #Base hours per week\n",
        "OT_MULTIPLIER = 1.5 #Overtime multiplier\n",
        "\n",
        "def main():\n",
        "  # 근무시간과 시간당 급여를 입력받아 각 변수에 할당한다.\n",
        "  hours_worked = float(input('Enter the number of hours worked:'))\n",
        "  pay_rate  = float(input('Enter the hourly pay rate:'))\n",
        "\n",
        "  #총 급여를 계산하고 그 결과를 출력한다.\n",
        "  if hours_worked > BASE_HOURS:\n",
        "    calc_pay_with_OT(hours_worked, pay_rate)\n",
        "  else:\n",
        "    calc_regular_pay(hours_worked, pay_rate)\n",
        "\n",
        "#근무시간이 BASE_HOURS보다 크다면 초고근무 비율을 고려하여 계산한다.\n",
        "def calc_pay_with_OT(hours, rate):\n",
        "  #초과 근무시간을 계산한다.\n",
        "  overtime_hours = hours - BASE_HOURS\n",
        "\n",
        "  #초과 근무시간의 급여를 계산한다.\n",
        "  overtime_pay = overtime_hours * rate * OT_MULTIPLIER\n",
        "\n",
        "  #총 급여를 계산한다.\n",
        "  gross_pay = BASE_HOURS * rate + overtime_pay\n",
        "\n",
        "  # 총 급여를 출력한다.\n",
        " print('The gross pay is $', format(gross_pay, ',.2f'), sep='')\n",
        "# 초과근무를 하지 않았다면 근무시간과 시간당 급여를 통해 총 급여를 계산하고 출력한다. def calc_regular_pay(hours, rate): # 총 급여를 계산한다. gross_pay = hours * rate\n",
        " # 총 급여를 출력한다. print('The gross pay is $', format(gross_pay, ',.2f'), sep='')\n",
        "\n",
        "# main 함수를 호출한다. main()\n",
        "\n"
      ],
      "metadata": {
        "id": "X8z0mZxVT2CF"
      },
      "execution_count": null,
      "outputs": []
    },
    {
      "cell_type": "code",
      "source": [
        "# 본 예제에서는 중첩 반복문을 사용하여 * (asterisks)로 사각형을 만들어보자.\n",
        "# 행과 열의 값을 입력받고 각 변수에 할당한다.\n",
        "rows = int(input('How many rows? '))\n",
        "cols = int(input('How many columns? '))\n",
        "\n",
        "for r in range(rows):\n",
        "  for c in range(cols):\n",
        "    print('*', end=\"\")\n",
        "  print()"
      ],
      "metadata": {
        "colab": {
          "base_uri": "https://localhost:8080/"
        },
        "id": "1BkF-p14VPRD",
        "outputId": "0bbd178f-aecd-42ee-dcba-e41ad7ed046b"
      },
      "execution_count": null,
      "outputs": [
        {
          "output_type": "stream",
          "name": "stdout",
          "text": [
            "How many rows? 5\n",
            "How many columns? 10\n",
            "**********\n",
            "**********\n",
            "**********\n",
            "**********\n",
            "**********\n"
          ]
        }
      ]
    },
    {
      "cell_type": "code",
      "source": [
        "# 본 예제에서는 중첩 반복문을 사용하여 * (asteriscks)로 삼각형을 만들어보자.\n",
        "BASE_SIZE = 8\n",
        "\n",
        "for r in range(BASE_SIZE):\n",
        "  for c in range(r+1):\n",
        "    print('*', end=\"\")\n",
        "  print()"
      ],
      "metadata": {
        "colab": {
          "base_uri": "https://localhost:8080/"
        },
        "id": "MH67APcOWP3d",
        "outputId": "45ae7974-1b6f-488c-f65c-4726bab70f7d"
      },
      "execution_count": null,
      "outputs": [
        {
          "output_type": "stream",
          "name": "stdout",
          "text": [
            "*\n",
            "**\n",
            "***\n",
            "****\n",
            "*****\n",
            "******\n",
            "*******\n",
            "********\n"
          ]
        }
      ]
    }
  ]
}