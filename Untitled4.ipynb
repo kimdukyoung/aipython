{
  "nbformat": 4,
  "nbformat_minor": 0,
  "metadata": {
    "colab": {
      "provenance": [],
      "authorship_tag": "ABX9TyOpv+QR9GTsJqS/bzNB8xa3",
      "include_colab_link": true
    },
    "kernelspec": {
      "name": "python3",
      "display_name": "Python 3"
    },
    "language_info": {
      "name": "python"
    }
  },
  "cells": [
    {
      "cell_type": "markdown",
      "metadata": {
        "id": "view-in-github",
        "colab_type": "text"
      },
      "source": [
        "<a href=\"https://colab.research.google.com/github/kimdukyoung/aipython/blob/main/Untitled4.ipynb\" target=\"_parent\"><img src=\"https://colab.research.google.com/assets/colab-badge.svg\" alt=\"Open In Colab\"/></a>"
      ]
    },
    {
      "cell_type": "code",
      "execution_count": 1,
      "metadata": {
        "colab": {
          "base_uri": "https://localhost:8080/"
        },
        "id": "TZ1jKyiLMN_V",
        "outputId": "32c0c68c-dd2c-40f1-dfe4-bdf8d7b45135"
      },
      "outputs": [
        {
          "output_type": "stream",
          "name": "stdout",
          "text": [
            "fruit0 name is a\n",
            "fruit1 name is b\n",
            "fruit2 name is c\n"
          ]
        }
      ],
      "source": [
        "fruits = ['a', 'b', 'c']\n",
        "\n",
        "for index, name in enumerate(fruits):\n",
        "    print(f'fruit{index} name is {name}')\n"
      ]
    },
    {
      "cell_type": "code",
      "source": [
        "fruits = ['a', 'b', 'c']\n",
        "\n",
        "for index, name in enumerate(fruits):\n",
        "    print(f'fruit{index} name is {name}')\n"
      ],
      "metadata": {
        "colab": {
          "base_uri": "https://localhost:8080/"
        },
        "id": "YiXmnc6tW4DJ",
        "outputId": "68c3faa9-6318-4998-9c60-337e6b8a0ccd"
      },
      "execution_count": 2,
      "outputs": [
        {
          "output_type": "stream",
          "name": "stdout",
          "text": [
            "fruit0 name is a\n",
            "fruit1 name is b\n",
            "fruit2 name is c\n"
          ]
        }
      ]
    },
    {
      "cell_type": "code",
      "source": [
        "# First block of code\n",
        "names = ['John', 'Jane', 'Doe']\n",
        "ages = [25, 30, 35]\n",
        "for name, age in zip(names, ages):\n",
        "    print(f\"{name} is {age} years old.\")\n",
        "\n",
        "# Second block of code\n",
        "keys = ['a', 'b', 'c']\n",
        "values = [1, 2, 3]\n",
        "list1 = [1, 2, 3]\n",
        "list2 = [4, 5, 6]\n",
        "list3 = [7, 8, 9]\n"
      ],
      "metadata": {
        "colab": {
          "base_uri": "https://localhost:8080/"
        },
        "id": "Kox4XYhpZsT4",
        "outputId": "4c380cd4-a5a7-4411-aa0e-f6b62439ed7d"
      },
      "execution_count": 3,
      "outputs": [
        {
          "output_type": "stream",
          "name": "stdout",
          "text": [
            "John is 25 years old.\n",
            "Jane is 30 years old.\n",
            "Doe is 35 years old.\n"
          ]
        }
      ]
    }
  ]
}