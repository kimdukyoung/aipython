{
  "nbformat": 4,
  "nbformat_minor": 0,
  "metadata": {
    "colab": {
      "provenance": [],
      "authorship_tag": "ABX9TyPLGbYpv1ToDjFxSq37ZqKf",
      "include_colab_link": true
    },
    "kernelspec": {
      "name": "python3",
      "display_name": "Python 3"
    },
    "language_info": {
      "name": "python"
    }
  },
  "cells": [
    {
      "cell_type": "markdown",
      "metadata": {
        "id": "view-in-github",
        "colab_type": "text"
      },
      "source": [
        "<a href=\"https://colab.research.google.com/github/kimdukyoung/aipython/blob/main/hello.ipynb\" target=\"_parent\"><img src=\"https://colab.research.google.com/assets/colab-badge.svg\" alt=\"Open In Colab\"/></a>"
      ]
    },
    {
      "cell_type": "code",
      "execution_count": 1,
      "metadata": {
        "colab": {
          "base_uri": "https://localhost:8080/"
        },
        "id": "MiRHc27JM1nV",
        "outputId": "6a33a958-7340-4944-d00f-53be538e6c43"
      },
      "outputs": [
        {
          "output_type": "stream",
          "name": "stdout",
          "text": [
            "helloworld\n"
          ]
        }
      ],
      "source": [
        "print(\"helloworld\")"
      ]
    },
    {
      "source": [
        "def compare(a, b):\n",
        "  if a > b:\n",
        "    print(\"a가 더 큽니다.\")\n",
        "  elif a < b:\n",
        "    print(\"b가 더 큽니다.\")\n",
        "  else:\n",
        "    print(\"a와 b는 같습니다.\")\n",
        "\n",
        "compare(10, 5)\n",
        "compare(5, 10)\n",
        "compare(10, 10)"
      ],
      "cell_type": "code",
      "metadata": {
        "colab": {
          "base_uri": "https://localhost:8080/"
        },
        "id": "NrkyVR4KOzTH",
        "outputId": "6b16d819-6e80-4319-bfe5-9b9bbb005d5c"
      },
      "execution_count": 3,
      "outputs": [
        {
          "output_type": "stream",
          "name": "stdout",
          "text": [
            "a가 더 큽니다.\n",
            "b가 더 큽니다.\n",
            "a와 b는 같습니다.\n"
          ]
        }
      ]
    },
    {
      "source": [
        "a, b = map(int, input().split())\n",
        "\n",
        "if a > b:\n",
        "  print(\">\")\n",
        "elif a < b:\n",
        "  print(\"<\")\n",
        "else:\n",
        "  print(\"==\")"
      ],
      "cell_type": "code",
      "metadata": {
        "id": "oqyfkZG_QNj5"
      },
      "execution_count": null,
      "outputs": []
    }
  ]
}