{
  "nbformat": 4,
  "nbformat_minor": 0,
  "metadata": {
    "colab": {
      "provenance": [],
      "authorship_tag": "ABX9TyNZd56FjcwH3PU7udiFriX5",
      "include_colab_link": true
    },
    "kernelspec": {
      "name": "python3",
      "display_name": "Python 3"
    },
    "language_info": {
      "name": "python"
    }
  },
  "cells": [
    {
      "cell_type": "markdown",
      "metadata": {
        "id": "view-in-github",
        "colab_type": "text"
      },
      "source": [
        "<a href=\"https://colab.research.google.com/github/kimdukyoung/aipython/blob/main/Untitled1.ipynb\" target=\"_parent\"><img src=\"https://colab.research.google.com/assets/colab-badge.svg\" alt=\"Open In Colab\"/></a>"
      ]
    },
    {
      "cell_type": "code",
      "source": [
        "a=input(\"당신의 나이는?\")\n",
        "\n",
        "print(a, \"살 이군요\")\n",
        "print(type(a))"
      ],
      "metadata": {
        "id": "LVpiEq-p2Mk7"
      },
      "execution_count": null,
      "outputs": []
    },
    {
      "cell_type": "code",
      "source": [
        "a=input(\"당신의 나이는?\")\n",
        "\n",
        "print(a, \"살 이군요.\")\n",
        "print(\"내년엔\",a+1,\"살이 되네요\")\n",
        "print(type(a))"
      ],
      "metadata": {
        "id": "mqvBCLCU2gMT"
      },
      "execution_count": null,
      "outputs": []
    },
    {
      "cell_type": "code",
      "source": [
        "#하나의 변수를 활용하는 코드입니다.\n",
        "Lab = 105\n",
        "print('우리가 수업하는 실습실:')\n",
        "print(Lab)"
      ],
      "metadata": {
        "id": "1F3Pa0VOC_8N"
      },
      "execution_count": null,
      "outputs": []
    },
    {
      "cell_type": "code",
      "source": [
        "#하나의 변수를 활용하는 코드입니다.\n",
        "Lab = 105\n",
        "print('우리가 수업하는 실습실: ', Lab)"
      ],
      "metadata": {
        "id": "tX0NATZwEGkI"
      },
      "execution_count": null,
      "outputs": []
    },
    {
      "cell_type": "code",
      "source": [
        "# 변수 두 개를 생성하고 값을 할당\n",
        "my_id = 20150001\n",
        "grade = 1\n",
        "\n",
        "# 두 개의 변수에 할당된 값을 출력\n",
        "print('나의 학번: ')\n",
        "print(my_id)\n",
        "print('학년:1')\n",
        "print(grade)"
      ],
      "metadata": {
        "id": "WrAOlLa7Eim4"
      },
      "execution_count": null,
      "outputs": []
    },
    {
      "cell_type": "code",
      "source": [
        "# 변수에 값을 할당하고  출력하는 예제입니다.\n",
        "# dollars 변수에 값을 할당해봅시다.\n",
        "dollars = 2.75\n",
        "print('I have', dollars, 'in my account!')"
      ],
      "metadata": {
        "id": "PtCIXks94GAU"
      },
      "execution_count": null,
      "outputs": []
    },
    {
      "cell_type": "code",
      "source": [
        "# 두 개의 변수를 생성하고 문자열을 할당합니다.\n",
        "department = '국어국문학과'\n",
        "name = '홍길동'\n",
        "\n",
        "# 각 변수에 할당된 문자열 값을 출력해보자\n",
        "print(departmnet, name)"
      ],
      "metadata": {
        "id": "mxdS-2AaFTB-"
      },
      "execution_count": null,
      "outputs": []
    },
    {
      "cell_type": "code",
      "source": [
        "# 학과명을 입력받습니다.\n",
        "department = input('학과명: ')\n",
        "\n",
        "#여러분의 이름을 입력받습니다.\n",
        "name = input('성명:')\n",
        "\n",
        "# 두 변수의 값을 출력합니다.\n",
        "print('안녕하세요', department, name)"
      ],
      "metadata": {
        "id": "S0K73H2AFk9v"
      },
      "execution_count": null,
      "outputs": []
    },
    {
      "cell_type": "code",
      "source": [
        "# 여러분의 이름, 나이, 통학시간 정보를 입력받습니다.\n",
        "name = input('당신의 이름은 무엇입니까?')\n",
        "age = int(input('나이는 어떻게 되시나요? '))\n",
        "attending_time = float(input('통학시간은 얼마나 걸립니까? '))\n",
        "\n",
        "#변수에 입력된 데이터를 출력해봅시다.\n",
        "print('입력 정보는 다음과 같습니다.')\n",
        "print('이름:', name)\n",
        "print('나이:', age)\n",
        "print('통학시간:', attending_time)"
      ],
      "metadata": {
        "id": "QqQKxUHXGHGd"
      },
      "execution_count": null,
      "outputs": []
    },
    {
      "cell_type": "code",
      "source": [
        "# salary 변수에 급여를 할당합니다.\n",
        "salary = 2500.0\n",
        "\n",
        "# bonus 변수에 보너스를 할당합니다.\n",
        "bonus = 1200.0\n",
        "\n",
        "# 급여와 보너스를 더하여 총 급여를 구해봅니다.\n",
        "# 총 급여를 pay 변수에 할당합니다.\n",
        "pay = salary + bonus\n",
        "\n",
        "# 총 급여를 출력합니다.\n",
        "print('총 급여:', pay)"
      ],
      "metadata": {
        "id": "mBoFLjW0G7gJ"
      },
      "execution_count": null,
      "outputs": []
    },
    {
      "cell_type": "code",
      "source": [
        "# 본 예제에서는 원가에 할인율을 적용하여 할인가격을 계산해보자.\n",
        "\n",
        "# original price 변수에 원가를 입력받는다.\n",
        "original_price = float(input(\"제품의 원가를 입력해주세요: \"))\n",
        "\n",
        "#원가에 할인율 20%를 적용하여 할인가를 계산하여 discount 변수에 할당한다.\n",
        "discount = original_price * 0.2\n",
        "\n",
        "# 원가에 할인가가 적용된 제품 가격을 계산하여 sale_price 변수에 할당한다.\n",
        "sale_price = original_price - discount\n",
        "\n",
        "#할인가가 적용된 제품 가격을 출력한다.\n",
        "print('할인가격: '. sale_price)"
      ],
      "metadata": {
        "id": "ivufoWyjHfNP"
      },
      "execution_count": null,
      "outputs": []
    },
    {
      "cell_type": "code",
      "source": [
        "# 세 과목의 평가 점수를 입력받고\n",
        "# test1, test2, test3 변수에 각각 할당한다.\n",
        "test1 = float(input('첫 번째 과목 점수를 입력해주세요: '))\n",
        "test2 = float(input('두 번째 과목 점수를 입력해주세요: '))\n",
        "test3 = float(input('세 번째 과목 점수를 입력해주세요: '))\n",
        "\n",
        "# 각 과목의 점수 평균을 계산하고\n",
        "# 그 결과 값을 average 변수에 할당한다.\n",
        "average = (test1 + test2 + test3)/ 3.0\n",
        "\n",
        "# 점수 평균을 출력한다.\n",
        "print('3 과목의 평균 점수: ', average)"
      ],
      "metadata": {
        "id": "44vZLsG7IhTF"
      },
      "execution_count": null,
      "outputs": []
    }
  ]
}